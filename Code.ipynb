{
  "nbformat": 4,
  "nbformat_minor": 0,
  "metadata": {
    "colab": {
      "provenance": []
    },
    "kernelspec": {
      "name": "python3",
      "display_name": "Python 3"
    },
    "language_info": {
      "name": "python"
    }
  },
  "cells": [
    {
      "cell_type": "markdown",
      "source": [
        "Install Dependencies and Import Libraries"
      ],
      "metadata": {
        "id": "hvlgzfwXt8V6"
      }
    },
    {
      "cell_type": "code",
      "source": [
        "# Install necessary packages\n",
        "!pip install sqlalchemy pandas\n",
        "\n",
        "# Import required modules\n",
        "from sqlalchemy import create_engine, Column, Integer, String, Boolean, ForeignKey, Date, Float\n",
        "from sqlalchemy.orm import relationship, sessionmaker, declarative_base\n",
        "import datetime\n",
        "import random\n",
        "import pandas as pd\n",
        "from google.colab import files\n",
        "\n",
        "# Set up the base declarative class\n",
        "Base = declarative_base()\n"
      ],
      "metadata": {
        "colab": {
          "base_uri": "https://localhost:8080/"
        },
        "id": "vCPY5-5puhGR",
        "outputId": "efb3857c-8606-4c6e-a4fb-7ec5031e6b9f"
      },
      "execution_count": 6,
      "outputs": [
        {
          "output_type": "stream",
          "name": "stdout",
          "text": [
            "Requirement already satisfied: sqlalchemy in /usr/local/lib/python3.10/dist-packages (2.0.35)\n",
            "Requirement already satisfied: pandas in /usr/local/lib/python3.10/dist-packages (2.1.4)\n",
            "Requirement already satisfied: typing-extensions>=4.6.0 in /usr/local/lib/python3.10/dist-packages (from sqlalchemy) (4.12.2)\n",
            "Requirement already satisfied: greenlet!=0.4.17 in /usr/local/lib/python3.10/dist-packages (from sqlalchemy) (3.1.1)\n",
            "Requirement already satisfied: numpy<2,>=1.22.4 in /usr/local/lib/python3.10/dist-packages (from pandas) (1.26.4)\n",
            "Requirement already satisfied: python-dateutil>=2.8.2 in /usr/local/lib/python3.10/dist-packages (from pandas) (2.8.2)\n",
            "Requirement already satisfied: pytz>=2020.1 in /usr/local/lib/python3.10/dist-packages (from pandas) (2024.2)\n",
            "Requirement already satisfied: tzdata>=2022.1 in /usr/local/lib/python3.10/dist-packages (from pandas) (2024.1)\n",
            "Requirement already satisfied: six>=1.5 in /usr/local/lib/python3.10/dist-packages (from python-dateutil>=2.8.2->pandas) (1.16.0)\n"
          ]
        }
      ]
    },
    {
      "cell_type": "markdown",
      "source": [
        "Define ORM Classes"
      ],
      "metadata": {
        "id": "FU878IqeuqGh"
      }
    },
    {
      "cell_type": "code",
      "source": [
        "# BehaviorRecord ORM Class\n",
        "class BehaviorRecord(Base):\n",
        "    __tablename__ = 'behavior_records'\n",
        "    id = Column(Integer, primary_key=True)\n",
        "    inmate_id = Column(Integer, ForeignKey('inmates.id', ondelete='CASCADE'))\n",
        "    date = Column(Date)\n",
        "    description = Column(String)\n",
        "    behavior_type = Column(String)\n",
        "\n",
        "# Parole ORM Class\n",
        "class Parole(Base):\n",
        "    __tablename__ = 'paroles'\n",
        "    id = Column(Integer, primary_key=True)\n",
        "    inmate_id = Column(Integer, ForeignKey('inmates.id', ondelete='CASCADE'), unique=True)\n",
        "    parole_date = Column(Date)\n",
        "    eligibility_status = Column(Boolean)\n",
        "\n",
        "    # Relationship back to the inmate (one-to-one)\n",
        "    inmate = relationship(\"Inmate\", back_populates=\"parole_status\", uselist=False)\n",
        "\n",
        "# MedicalRecord ORM Class\n",
        "class MedicalRecord(Base):\n",
        "    __tablename__ = 'medical_records'\n",
        "    id = Column(Integer, primary_key=True)\n",
        "    inmate_id = Column(Integer, ForeignKey('inmates.id', ondelete='CASCADE'), unique=True)\n",
        "    medical_condition = Column(String)\n",
        "    treatment_plan = Column(String)\n",
        "\n",
        "    # Relationship back to the inmate (one-to-one)\n",
        "    inmate = relationship(\"Inmate\", back_populates=\"medical_records\", uselist=False)\n",
        "\n",
        "# Cell ORM Class\n",
        "class Cell(Base):\n",
        "    __tablename__ = 'cells'\n",
        "    id = Column(Integer, primary_key=True)\n",
        "    cell_number = Column(Integer, unique=True)\n",
        "    capacity = Column(Integer)\n",
        "    current_inmates = relationship(\"Inmate\", back_populates=\"cell\")\n",
        "\n",
        "# Inmate ORM Class\n",
        "class Inmate(Base):\n",
        "    __tablename__ = 'inmates'\n",
        "    id = Column(Integer, primary_key=True)\n",
        "    name = Column(String)\n",
        "    age = Column(Integer)\n",
        "    crime = Column(String)\n",
        "    sentence_duration = Column(Integer)  # Number of years sentenced\n",
        "    time_served = Column(Float, default=0)  # Track time served\n",
        "    cell_id = Column(Integer, ForeignKey('cells.id'))\n",
        "\n",
        "    # Relationships\n",
        "    behavior_records = relationship(\"BehaviorRecord\", backref=\"inmate\")\n",
        "    parole_status = relationship(\"Parole\", uselist=False, back_populates=\"inmate\", foreign_keys=[Parole.inmate_id])\n",
        "    medical_records = relationship(\"MedicalRecord\", uselist=False, back_populates=\"inmate\", foreign_keys=[MedicalRecord.inmate_id])\n",
        "    cell = relationship(\"Cell\", back_populates=\"current_inmates\")\n"
      ],
      "metadata": {
        "id": "CrdGep5gutm8"
      },
      "execution_count": 7,
      "outputs": []
    },
    {
      "cell_type": "markdown",
      "source": [
        "Additional Helper Classes (Warden, Guard, WorkAssignment)"
      ],
      "metadata": {
        "id": "dYUimxPeuxWs"
      }
    },
    {
      "cell_type": "code",
      "source": [
        "# Warden Class\n",
        "class Warden:\n",
        "    def __init__(self, name, staff_id):\n",
        "        self.name = name\n",
        "        self.staff_id = staff_id\n",
        "\n",
        "    def assign_cell(self, inmate, cell):\n",
        "        return cell.add_inmate(inmate)\n",
        "\n",
        "    def approve_parole(self, inmate):\n",
        "        if inmate.get_parole_eligibility():\n",
        "            inmate.parole_status.eligibility_status = True\n",
        "            return f\"Inmate {inmate.name}'s parole has been approved\"\n",
        "        else:\n",
        "            return f\"Inmate {inmate.name} is not eligible for parole\"\n",
        "\n",
        "# Guard Class\n",
        "class Guard:\n",
        "    def __init__(self, name, staff_id):\n",
        "        self.name = name\n",
        "        self.staff_id = staff_id\n",
        "\n",
        "    def monitor_inmate(self, inmate):\n",
        "        return f\"Guard {self.name} is monitoring inmate {inmate.name}\"\n",
        "\n",
        "    def report_behavior(self, inmate, behavior_record):\n",
        "        inmate.add_behavior_record(behavior_record)\n",
        "        return f\"Behavior recorded for inmate {inmate.name}: {behavior_record.description}\"\n",
        "\n",
        "# WorkAssignment Class\n",
        "class WorkAssignment:\n",
        "    def __init__(self, assignment_name):\n",
        "        self.assignment_name = assignment_name\n",
        "        self.assigned_inmates = []  # List of Inmate objects\n",
        "\n",
        "    def assign_inmate(self, inmate):\n",
        "        self.assigned_inmates.append(inmate)\n",
        "        return f\"Inmate {inmate.name} assigned to work {self.assignment_name}\"\n",
        "\n",
        "    def remove_inmate(self, inmate):\n",
        "        if inmate in self.assigned_inmates:\n",
        "            self.assigned_inmates.remove(inmate)\n",
        "            return f\"Inmate {inmate.name} removed from work assignment {self.assignment_name}\"\n",
        "        else:\n",
        "            return f\"Inmate {inmate.name} is not assigned to {self.assignment_name}\"\n",
        "\n",
        "    def track_progress(self, inmate):\n",
        "        return f\"Tracking work progress for inmate {inmate.name} in {self.assignment_name}\"\n",
        ""
      ],
      "metadata": {
        "id": "rHtfwIHMu0i0"
      },
      "execution_count": 8,
      "outputs": []
    },
    {
      "cell_type": "markdown",
      "source": [
        "Create and Populate the Database"
      ],
      "metadata": {
        "id": "MW3OdGN-u7Nw"
      }
    },
    {
      "cell_type": "code",
      "source": [
        "# Create SQLite Database\n",
        "engine = create_engine('sqlite:///prison_system.db')\n",
        "Base.metadata.create_all(engine)\n",
        "\n",
        "# Create a session for interacting with the database\n",
        "Session = sessionmaker(bind=engine)\n",
        "session = Session()\n",
        "\n",
        "# Helper functions to generate random data\n",
        "def random_name():\n",
        "    first_names = [\"John\", \"Jane\", \"Alex\", \"Sam\", \"Chris\", \"Taylor\", \"Jordan\", \"Morgan\", \"Robin\", \"Skyler\"]\n",
        "    last_names = [\"Smith\", \"Johnson\", \"Brown\", \"Williams\", \"Jones\", \"Garcia\", \"Martinez\", \"Robinson\", \"Clark\", \"Lewis\"]\n",
        "    return f\"{random.choice(first_names)} {random.choice(last_names)}\"\n",
        "\n",
        "def random_crime():\n",
        "    crimes = [\"Theft\", \"Assault\", \"Fraud\", \"Drug Possession\", \"Robbery\", \"Arson\", \"Murder\", \"Tax Evasion\"]\n",
        "    return random.choice(crimes)\n",
        "\n",
        "def random_behavior():\n",
        "    behaviors = [(\"Good\", \"Helped with prison maintenance\"),\n",
        "                 (\"Bad\", \"Started a fight\"),\n",
        "                 (\"Good\", \"Volunteered for work assignment\"),\n",
        "                 (\"Bad\", \"Attempted escape\")]\n",
        "    return random.choice(behaviors)\n",
        "\n",
        "# Populate the database with random data\n",
        "def populate_database(session):\n",
        "    # Generate 5 Cells\n",
        "    cells = []\n",
        "    for i in range(5):\n",
        "        cell = Cell(cell_number=100 + i, capacity=10)\n",
        "        cells.append(cell)\n",
        "        session.add(cell)\n",
        "\n",
        "    # Generate 50 Inmates\n",
        "    for i in range(50):\n",
        "        name = random_name()\n",
        "        age = random.randint(20, 60)\n",
        "        crime = random_crime()\n",
        "        sentence_duration = random.randint(1, 25)\n",
        "        time_served = round(random.uniform(0, sentence_duration), 1)\n",
        "\n",
        "        # Randomly assign an inmate to a cell\n",
        "        cell = random.choice(cells)\n",
        "\n",
        "        # Create a MedicalRecord for the inmate\n",
        "        medical_condition = random.choice([\"Healthy\", \"Diabetes\", \"Asthma\", \"Heart Disease\", \"Hypertension\"])\n",
        "        treatment_plan = f\"Treatment for {medical_condition}\"\n",
        "        medical_record = MedicalRecord(medical_condition=medical_condition, treatment_plan=treatment_plan)\n",
        "\n",
        "        # Create a Parole status for the inmate\n",
        "        parole_date = datetime.date.today() + datetime.timedelta(days=random.randint(100, 1000))\n",
        "        parole_eligibility = random.choice([True, False])\n",
        "        parole_status = Parole(parole_date=parole_date, eligibility_status=parole_eligibility)\n",
        "\n",
        "        # Create the Inmate object\n",
        "        inmate = Inmate(\n",
        "            name=name,\n",
        "            age=age,\n",
        "            crime=crime,\n",
        "            sentence_duration=sentence_duration,\n",
        "            time_served=time_served,\n",
        "            cell=cell,\n",
        "            medical_records=medical_record,\n",
        "            parole_status=parole_status\n",
        "        )\n",
        "\n",
        "        # Add random behavior records for the inmate\n",
        "        for _ in range(random.randint(1, 5)):  # Randomly add 1-5 behavior records\n",
        "            behavior_type, description = random_behavior()\n",
        "            behavior_record = BehaviorRecord(\n",
        "                date=datetime.date.today() - datetime.timedelta(days=random.randint(1, 365)),\n",
        "                description=description,\n",
        "                behavior_type=behavior_type\n",
        "            )\n",
        "            inmate.behavior_records.append(behavior_record)\n",
        "\n",
        "        # Add the inmate and related records to the session\n",
        "        session.add(inmate)\n",
        "\n",
        "    # Commit the session to store all entries in the database\n",
        "    session.commit()\n",
        "\n",
        "# Populate the database with random data\n",
        "populate_database(session)\n"
      ],
      "metadata": {
        "id": "jUGPLHabu6Sh"
      },
      "execution_count": 10,
      "outputs": []
    },
    {
      "cell_type": "markdown",
      "source": [
        "Export to CSV and Download"
      ],
      "metadata": {
        "id": "JcLTOU0HvV4M"
      }
    },
    {
      "cell_type": "code",
      "source": [
        "# Export inmate data to CSV\n",
        "def export_inmates_to_csv(session, file_path):\n",
        "    # Query all inmates from the database\n",
        "    inmates_data = session.query(Inmate).all()\n",
        "\n",
        "    # Prepare data for CSV export\n",
        "    inmate_rows = []\n",
        "\n",
        "    for inmate in inmates_data:\n",
        "        # Create a dictionary for each inmate's information\n",
        "        inmate_dict = {\n",
        "            \"Name\": inmate.name,\n",
        "            \"Age\": inmate.age,\n",
        "            \"Crime\": inmate.crime,\n",
        "            \"Sentence Duration\": inmate.sentence_duration,\n",
        "            \"Time Served\": inmate.time_served,\n",
        "            \"Cell Number\": inmate.cell.cell_number if inmate.cell else None,\n",
        "            \"Medical Condition\": inmate.medical_records.medical_condition if inmate.medical_records else None,\n",
        "            \"Parole Eligibility\": inmate.parole_status.eligibility_status if inmate.parole_status else None,\n",
        "            \"Parole Date\": inmate.parole_status.parole_date if inmate.parole_status else None\n",
        "        }\n",
        "\n",
        "        # Add behavior records to the dictionary\n",
        "        for idx, behavior in enumerate(inmate.behavior_records, start=1):\n",
        "            inmate_dict[f\"Behavior {idx}\"] = f\"{behavior.behavior_type} - {behavior.description} on {behavior.date}\"\n",
        "\n",
        "        inmate_rows.append(inmate_dict)\n",
        "\n",
        "    # Convert the list of dictionaries to a pandas DataFrame\n",
        "    df_inmates = pd.DataFrame(inmate_rows)\n",
        "\n",
        "    # Save the DataFrame to a CSV file\n",
        "    df_inmates.to_csv(file_path, index=False)\n",
        "    print(f\"Data exported successfully to {file_path}\")\n",
        "\n",
        "# Export and download the CSV\n",
        "def export_and_download_csv(session, file_path='inmates_data.csv'):\n",
        "    export_inmates_to_csv(session, file_path)\n",
        "    files.download(file_path)\n",
        "\n",
        "# Export and download CSV\n",
        "export_and_download_csv(session)\n"
      ],
      "metadata": {
        "colab": {
          "base_uri": "https://localhost:8080/",
          "height": 35
        },
        "id": "aN7wIlGQvjYY",
        "outputId": "604b93d4-07f1-4c91-df53-857d12537603"
      },
      "execution_count": 11,
      "outputs": [
        {
          "output_type": "stream",
          "name": "stdout",
          "text": [
            "Data exported successfully to inmates_data.csv\n"
          ]
        },
        {
          "output_type": "display_data",
          "data": {
            "text/plain": [
              "<IPython.core.display.Javascript object>"
            ],
            "application/javascript": [
              "\n",
              "    async function download(id, filename, size) {\n",
              "      if (!google.colab.kernel.accessAllowed) {\n",
              "        return;\n",
              "      }\n",
              "      const div = document.createElement('div');\n",
              "      const label = document.createElement('label');\n",
              "      label.textContent = `Downloading \"${filename}\": `;\n",
              "      div.appendChild(label);\n",
              "      const progress = document.createElement('progress');\n",
              "      progress.max = size;\n",
              "      div.appendChild(progress);\n",
              "      document.body.appendChild(div);\n",
              "\n",
              "      const buffers = [];\n",
              "      let downloaded = 0;\n",
              "\n",
              "      const channel = await google.colab.kernel.comms.open(id);\n",
              "      // Send a message to notify the kernel that we're ready.\n",
              "      channel.send({})\n",
              "\n",
              "      for await (const message of channel.messages) {\n",
              "        // Send a message to notify the kernel that we're ready.\n",
              "        channel.send({})\n",
              "        if (message.buffers) {\n",
              "          for (const buffer of message.buffers) {\n",
              "            buffers.push(buffer);\n",
              "            downloaded += buffer.byteLength;\n",
              "            progress.value = downloaded;\n",
              "          }\n",
              "        }\n",
              "      }\n",
              "      const blob = new Blob(buffers, {type: 'application/binary'});\n",
              "      const a = document.createElement('a');\n",
              "      a.href = window.URL.createObjectURL(blob);\n",
              "      a.download = filename;\n",
              "      div.appendChild(a);\n",
              "      a.click();\n",
              "      div.remove();\n",
              "    }\n",
              "  "
            ]
          },
          "metadata": {}
        },
        {
          "output_type": "display_data",
          "data": {
            "text/plain": [
              "<IPython.core.display.Javascript object>"
            ],
            "application/javascript": [
              "download(\"download_feb0f9ac-4553-468e-b005-56c8db807ae5\", \"inmates_data.csv\", 10381)"
            ]
          },
          "metadata": {}
        }
      ]
    }
  ]
}